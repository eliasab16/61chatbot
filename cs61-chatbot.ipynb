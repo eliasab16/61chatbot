{
 "cells": [
  {
   "cell_type": "code",
   "execution_count": null,
   "id": "0bf74559-cc8a-4b69-a82d-ab0b915370a2",
   "metadata": {},
   "outputs": [],
   "source": [
    "import nltk\n",
    "nltk.download('punkt')"
   ]
  },
  {
   "cell_type": "code",
   "execution_count": 70,
   "id": "2ae78c6b-2902-4b8c-bb9d-cc3994a1cc3a",
   "metadata": {},
   "outputs": [],
   "source": [
    "# what we need for NLP\n",
    "from nltk.stem.lancaster import LancasterStemmer\n",
    "stemmer = LancasterStemmer()\n",
    "\n",
    "# things we need for TensorFlow\n",
    "import numpy as np\n",
    "import tflearn \n",
    "import tensorflow as tf\n",
    "import random\n",
    "\n",
    "import json\n",
    "with open('cs61-chatbot-intents.json') as json_data:\n",
    "    intents = json.load(json_data)\n",
    "    \n",
    "words = []\n",
    "classes = []\n",
    "documents = []\n",
    "ignore_words = ['?', '!', '.', ',', ':', ';']\n",
    "# loop through each sentence in our intents patterns\n",
    "for intent in intents['intents']:\n",
    "    for pattern in intent['patterns']:\n",
    "        # tokenize each word in the sentence\n",
    "        w = nltk.word_tokenize(pattern)\n",
    "        # add to our words list\n",
    "        words.extend(w)\n",
    "        # add to documents in our corpus\n",
    "        documents.append((w, intent['tag']))\n",
    "        # add to our classes list if not added yet\n",
    "        if intent['tag'] not in classes:\n",
    "            classes.append(intent['tag'])\n",
    "            \n",
    "# # stem and lower each word and remove duplicates\n",
    "# words = [stemmer.stem(w.lower()) for w in words if w not in ignore_words]\n",
    "# words = sorted(list(set(words)))\n",
    "\n",
    "# # remove duplicates\n",
    "# classes = sorted(list(set(classes)))\n",
    "\n",
    "# print(len(documents), \"documents\")\n",
    "# print(len(classes), \"classes\", classes)\n",
    "# print(len(words), \"unique stemmed words\", words)"
   ]
  },
  {
   "cell_type": "code",
   "execution_count": 71,
   "id": "1ba35b23-f59b-4ce7-b9b0-be5e6d253b7c",
   "metadata": {},
   "outputs": [
    {
     "name": "stdout",
     "output_type": "stream",
     "text": [
      "84 documents\n",
      "8 classes ['commit', 'commit-yes', 'goodbye', 'greeting', 'late days', 'late-yes', 'no', 'thanks']\n",
      "328 unique stemmed words ['!', \"'d\", \"'m\", \"'s\", \"'ve\", '(', ')', ',', '.', '1', '10', '115', '144', '145', '15', '2', '214', '24', '3', '4', '48', '5', '5c5e364', '6', '94', 'a', 'abl', 'about', 'access', 'accid', 'act', 'ad', 'addit', 'address', 'ahead', 'al', 'allot', 'almost', 'also', 'am', 'amount', 'an', 'and', 'anew', 'anoth', 'anxy', 'any', 'anyon', 'anyth', 'appear', 'apprecy', 'ar', 'as', 'ask', 'assign', 'at', 'attend', 'back', 'battery', 'be', 'becaus', 'been', 'believ', 'below', 'benef', 'bit', 'brok', 'brush', 'busy', 'but', 'by', 'bye', 'ca', 'can', 'champ', 'chang', 'chant', 'check', 'circumst', 'cod', 'com', 'commit', 'complet', 'comput', 'concern', 'conf', 'consist', 'correct', 'could', 'countless', 'coupl', 'credit', 'cur', 'dat', 'day', 'deadlin', 'deadline/with', 'debug', 'detery', 'difficult', 'dilig', 'display', 'do', 'don', 'dorm', 'due', 'ed', 'eddy', 'end', 'ev', 'exact', 'ext', 'extend', 'extenu', 'extr', 'feel', 'few', 'fin', 'fix', 'fold', 'for', 'fram', 'friend', 'from', 'get', 'github', 'giv', 'go', 'good', 'goodby', 'got', 'grad', 'grant', 'grind', 'had', 'has', 'hav', 'health-wise', 'held', 'hello', 'help', 'hi', 'hop', 'hour', 'how', 'hug', 'i', 'if', 'in', 'incorrect', 'inquir', 'insid', 'instead', 'is', 'issu', 'it', 'just', 'knowledg', 'laptop', 'last', 'lat', 'leak', 'left', 'lik', 'list', 'long', 'look', 'm', 'mad', 'many', 'mayb', 'me', 'meant', 'mem', 'merg', 'messy', 'mhm', 'middl', 'mistak', 'mistank', 'misunderstood', 'mom', 'mor', 'most', 'my', \"n't\", 'nee', 'nev', 'new', 'night', 'no', 'norm', 'not', 'now', 'numb', 'of', 'off', 'oh', 'old', 'on', 'or', 'oth', 'out', 'ov', 'p.m.', 'part', 'past', 'per', 'person', 'plan', 'plug', 'point', 'poss', 'post', 'pretty', 'prevy', 'pri', 'problem', 'progress', 'pset', 'pset1', 'pset3', 'pset4', 'pset5', 'push', 'put', 'ran', 'rat', 're-commited', 'reach', 'real', 'reason', 'rec', 'receiv', 'regul', 'remain', 'rememb', 'request', 'rest', 'result', 'revert', 'right', 'rough', 'run', 's', 'sam', 'say', 'scratchwork', 'see', 'seem', 'semest', 'serv', 'set', 'shel', 'sick', 'sint', 'so', 'som', 'sort', 'spend', 'step', 'stil', 'struggling', 'styl', 'submit', 't', 'tak', 'team', 'temp', 'test', 'thank', 'that', 'the', 'then', 'ther', 'thi', 'think', 'though', 'thought', 'throughout', 'tim', 'to', 'today', 'tomorrow', 'tonight', 'try', 'two', 'un', 'underestim', 'unfortun', 'unint', 'unless', 'unt', 'up', 'upload', 'us', 've', 'very', 'video', 'want', 'was', 'way', 'websit', 'week', 'weekend', 'wel', 'what', 'when', 'wher', 'wheth', 'which', 'whil', 'wil', 'wish', 'with', 'within', 'wond', 'work', 'worry', 'would', 'writ', 'wrong', 'ye', 'yeah', 'yep', 'yess', 'you', '’']\n"
     ]
    }
   ],
   "source": [
    "# stem and lower each word and remove duplicates\n",
    "words = [stemmer.stem(w.lower()) for w in words if w not in ignore_words]\n",
    "words = sorted(list(set(words)))\n",
    "\n",
    "# remove duplicates\n",
    "classes = sorted(list(set(classes)))\n",
    "\n",
    "print(len(documents), \"documents\")\n",
    "print(len(classes), \"classes\", classes)\n",
    "print(len(words), \"unique stemmed words\", words)"
   ]
  },
  {
   "cell_type": "code",
   "execution_count": 72,
   "id": "2ed88bad-5761-4bd2-b3e9-c2a4a85cfb2d",
   "metadata": {},
   "outputs": [
    {
     "name": "stdout",
     "output_type": "stream",
     "text": [
      "Training Step: 10999  | total loss: \u001b[1m\u001b[32m0.16928\u001b[0m\u001b[0m | time: 0.024s\n",
      "| Adam | epoch: 1000 | loss: 0.16928 - acc: 0.9053 -- iter: 80/84\n",
      "Training Step: 11000  | total loss: \u001b[1m\u001b[32m0.17062\u001b[0m\u001b[0m | time: 0.026s\n",
      "| Adam | epoch: 1000 | loss: 0.17062 - acc: 0.9147 -- iter: 84/84\n",
      "--\n",
      "INFO:tensorflow:/Users/eliasabunuwara/Desktop/personal projects/cs61-chatbot/model.tflearn is not in all_model_checkpoint_paths. Manually adding it.\n"
     ]
    }
   ],
   "source": [
    "# make the input compatible with tensorflow - converting docs of words to tensors of numbers\n",
    "# create our training data\n",
    "training = []\n",
    "output = []\n",
    "# create an empty array for our output\n",
    "output_empty = [0] * len(classes)\n",
    "\n",
    "# training set, bag of words for each sentence\n",
    "for doc in documents:\n",
    "    # initialize our bag of words\n",
    "    bag = []\n",
    "    # list of tokenized words for the pattern\n",
    "    pattern_words = doc[0]\n",
    "    # stem each word\n",
    "    pattern_words = [stemmer.stem(word.lower()) for word in pattern_words]\n",
    "    # create our bag of words array\n",
    "    for w in words:\n",
    "        bag.append(1) if w in pattern_words else bag.append(0)\n",
    "\n",
    "    # output is a '0' for each tag and '1' for current tag\n",
    "    output_row = list(output_empty)\n",
    "    output_row[classes.index(doc[1])] = 1\n",
    "\n",
    "    training.append([bag, output_row])\n",
    "\n",
    "# shuffle our features and turn into np.array\n",
    "random.shuffle(training)\n",
    "training = np.array(training)\n",
    "\n",
    "# create train and test lists\n",
    "train_x = list(training[:,0])\n",
    "train_y = list(training[:,1])\n",
    "\n",
    "\n",
    "# build the model\n",
    "# reset underlying graph data\n",
    "tf.compat.v1.reset_default_graph()\n",
    "# Build neural network\n",
    "net = tflearn.input_data(shape=[None, len(train_x[0])])\n",
    "net = tflearn.fully_connected(net, 8)\n",
    "net = tflearn.fully_connected(net, 8)\n",
    "net = tflearn.fully_connected(net, len(train_y[0]), activation='softmax')\n",
    "net = tflearn.regression(net)\n",
    "\n",
    "# Define model and setup tensorboard\n",
    "model = tflearn.DNN(net, tensorboard_dir='tflearn_logs')\n",
    "# Start training (apply gradient descent algorithm)\n",
    "model.fit(train_x, train_y, n_epoch=1000, batch_size=8, show_metric=True)\n",
    "model.save('model.tflearn')"
   ]
  },
  {
   "cell_type": "code",
   "execution_count": 73,
   "id": "872a592d-4e30-4d38-8039-5569db96d29e",
   "metadata": {},
   "outputs": [],
   "source": [
    "import pickle\n",
    "pickle.dump( {'words':words, 'classes':classes, 'train_x':train_x, 'train_y':train_y}, open( \"training_data\", \"wb\" ) )"
   ]
  },
  {
   "cell_type": "code",
   "execution_count": 74,
   "id": "c103b635-143f-4707-91cd-7039e2bb50e7",
   "metadata": {},
   "outputs": [
    {
     "name": "stdout",
     "output_type": "stream",
     "text": [
      "INFO:tensorflow:Restoring parameters from /Users/eliasabunuwara/Desktop/personal projects/cs61-chatbot/model.tflearn\n"
     ]
    }
   ],
   "source": [
    "# restore all of our data structures\n",
    "data = pickle.load(open(\"training_data\", \"rb\"))\n",
    "words = data['words']\n",
    "classes = data['classes']\n",
    "train_x = data['train_x']\n",
    "train_y = data['train_y']\n",
    "# dictionary to store user context\n",
    "context = {}\n",
    "# store user conversation \n",
    "conversations = {}\n",
    "ERROR_THRESHOLD = 0.25\n",
    "\n",
    "# import our chat-bot intents file\n",
    "import json\n",
    "with open('cs61-chatbot-intents.json') as json_data:\n",
    "    intents = json.load(json_data)\n",
    "    \n",
    "# load our saved model\n",
    "model.load('./model.tflearn')\n",
    "\n",
    "# tokenize user input\n",
    "def clean_up_sentence(sentence):\n",
    "    # tokenize the pattern\n",
    "    sentence_words = nltk.word_tokenize(sentence)\n",
    "    # stem each word\n",
    "    sentence_words = [stemmer.stem(word.lower()) for word in sentence_words]\n",
    "    return sentence_words\n",
    "\n",
    "# return bag of words array: 0 or 1 for each word in the bag that exists in the sentence\n",
    "def bow(sentence, words, show_details=False):\n",
    "    # tokenize the pattern\n",
    "    sentence_words = clean_up_sentence(sentence)\n",
    "    # bag of words\n",
    "    bag = [0]*len(words)\n",
    "    for s in sentence_words:\n",
    "        for i,w in enumerate(words):\n",
    "            if w == s:\n",
    "                bag[i] = 1\n",
    "                if show_details:\n",
    "                    print (\"found in bag: %s\" % w)\n",
    "\n",
    "    return(np.array(bag))\n",
    "\n",
    "\n",
    "def classify(sentence):\n",
    "    # generate probabilities from the model\n",
    "    results = model.predict([bow(sentence, words)])[0]\n",
    "    # filter out predictions below a threshold\n",
    "    results = [[i,r] for i,r in enumerate(results) if r > ERROR_THRESHOLD]\n",
    "    # sort by strength of probability\n",
    "    results.sort(key=lambda x: x[1], reverse=True)\n",
    "    return_list = []\n",
    "    for r in results:\n",
    "        return_list.append((classes[r[0]], r[1]))\n",
    "    \n",
    "    return (return_list)\n",
    "\n",
    "def response(sentence, userID='123', show_details=False):\n",
    "    results = classify(sentence)\n",
    "    if userID in conversations:\n",
    "        conversations[userID].append = sentence\n",
    "    else:\n",
    "        conversations[userID] = [sentence]\n",
    "    # if we have a classification then find the matching intent tag\n",
    "    if results:\n",
    "        # loop as long as there are matches to process\n",
    "        while results:\n",
    "            for i in intents['intents']:\n",
    "                # find a tag matching the first result\n",
    "                if i['tag'] == results[0][0]:\n",
    "                    # set context for this intent if necessary\n",
    "                    if 'context_set' in i:\n",
    "                        if show_details: \n",
    "                            print ('context:', i['context_set'])\n",
    "                        context[userID] = i['context_set']\n",
    "                        \n",
    "                    # return random response from intent's set if it's not contextual, and if it's contextual and \n",
    "                    # matches the user's urrent context\n",
    "                    if not 'context_filter' in i or \\\n",
    "                        (userID in context and 'context_filter' in i and i['context_filter'] == context[userID]):\n",
    "                        if show_details:\n",
    "                            print ('tag:', i['tag'])\n",
    "                        # a random response from the intent\n",
    "                        \n",
    "                        return print(random.choice(i['responses']), results[0][1])    \n",
    "                    \n",
    "                    \n",
    "            \n",
    "            # treating the results list as a stack, we pop the first prediction if no match\n",
    "            results.pop(0)\n",
    "            "
   ]
  },
  {
   "cell_type": "code",
   "execution_count": 77,
   "id": "7de66ca4-4a09-44fb-b75d-bc406d243604",
   "metadata": {},
   "outputs": [
    {
     "name": "stdout",
     "output_type": "stream",
     "text": [
      "If I'm correct, you have an issue with a pset commit? 0.9546086\n"
     ]
    }
   ],
   "source": [
    "response(\"I have a problem with my commit pset4 it seems like when i pushed to pset6 ot accidentally pushed to pset4\")"
   ]
  },
  {
   "cell_type": "code",
   "execution_count": 80,
   "id": "75a88a8a-3c83-41f8-9c9c-f7c8d7a57e47",
   "metadata": {},
   "outputs": [
    {
     "name": "stdout",
     "output_type": "stream",
     "text": [
      "Sorry if I misundertood you. Could you try again? 0.9568679\n"
     ]
    }
   ],
   "source": [
    "response(\"no\")"
   ]
  },
  {
   "cell_type": "code",
   "execution_count": 82,
   "id": "ae15ca43-b088-4364-b376-9ae1fe77084e",
   "metadata": {},
   "outputs": [
    {
     "name": "stdout",
     "output_type": "stream",
     "text": [
      "Correct me if I'm wrong, you're asking for an extention? 0.8525875\n"
     ]
    }
   ],
   "source": [
    "response(\"i need more late hours because i was partying all week long\")"
   ]
  },
  {
   "cell_type": "code",
   "execution_count": 83,
   "id": "3d7c028c-dce5-47fe-bfc5-d362a77be26c",
   "metadata": {},
   "outputs": [
    {
     "name": "stdout",
     "output_type": "stream",
     "text": [
      "We are happy to grant you the late days that you've requested. 0.4875152\n"
     ]
    }
   ],
   "source": [
    "response(\"yes\")"
   ]
  },
  {
   "cell_type": "code",
   "execution_count": null,
   "id": "c306022d-8b03-41c0-96e2-dca7a237fab6",
   "metadata": {},
   "outputs": [],
   "source": []
  }
 ],
 "metadata": {
  "kernelspec": {
   "display_name": "Python 3",
   "language": "python",
   "name": "python3"
  },
  "language_info": {
   "codemirror_mode": {
    "name": "ipython",
    "version": 3
   },
   "file_extension": ".py",
   "mimetype": "text/x-python",
   "name": "python",
   "nbconvert_exporter": "python",
   "pygments_lexer": "ipython3",
   "version": "3.8.8"
  }
 },
 "nbformat": 4,
 "nbformat_minor": 5
}
